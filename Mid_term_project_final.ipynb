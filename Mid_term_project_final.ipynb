{
 "cells": [
  {
   "cell_type": "markdown",
   "metadata": {},
   "source": [
    "## **MIDTERM PROJECT -** \n",
    "###For Advanced Process Safety with the guidance of Dr. Tianxing Cai"
   ]
  },
  {
   "cell_type": "markdown",
   "metadata": {},
   "source": [
    "###Combining HAZOP with dynamic simulation—Applications for safety"
   ]
  },
  {
   "cell_type": "markdown",
   "metadata": {},
   "source": [
    "\n",
    "###Oxidation of 2-octanol in a semi-batch reactor\n",
    "\n",
    "Preparation and validation of the simulation model as per the [research idea](http://www.sciencedirect.com/science/article/pii/S0950423006000428/)\n"
   ]
  },
  {
   "cell_type": "markdown",
   "metadata": {},
   "source": [
    "The below is the python routine to solve the system of First-Order Oridinary Differential Equation using `scipy.optimize.odeint` module"
   ]
  },
  {
   "cell_type": "code",
   "execution_count": 1,
   "metadata": {
    "collapsed": false
   },
   "outputs": [],
   "source": [
    "#Importing the required library:\n",
    "\n",
    "import numpy as np\n",
    "import matplotlib.pyplot as plt\n",
    "from scipy.integrate import odeint\n",
    "import math\n",
    "import seaborn as sns; sns.set() \n",
    "\n",
    "%matplotlib inline\n",
    "\n",
    "np.random.seed(211) \n",
    "\n",
    "#Input Data\n",
    "\n",
    "maA1 = 10**5 # Pre-exponential factor reaction 1 [m3/kmol/s]\n",
    "mpA2 = 10**10 # Pre-exponential factor reaction 2[m3/kmol/s]\n",
    "E1perR = 11300 # Activation temperature reaction 1 [K]\n",
    "E2perR = 12000 # Activation tempetature reaction 2 [K]\n",
    "m1 = 6.6 # Hammett's reaction rate coeff. reaction 1\n",
    "m2 = 2.2 # Hammett's reaction rate coeff. reaction 2\n",
    "RhoOctan = 820.7 # Density of 2-octanol [kg/m3]\n",
    "MwOctan = 130.23 # Molar mass of 2-octanol [kg/kmol]\n",
    "Mw = 63 # Molar mass of HNO3 [kg/kmol]\n",
    "RhoAcid = 1500 # Density of pure nitric acid [kg/m3]\n",
    "RhoCPdos = 2 * 10 ** 6 # Heat capacity of dose [J/m3/K]\n",
    "Tdos = 293.15 # Temperature of feed dose [K]\n",
    "Hnol = 160 * 10 ** 6 # Specific heat of reaction 1 [J/kmol]\n",
    "Hnone = 520 * 10 ** 6 # Specific heat of reaction 2 [J/kmole]\n",
    "RhoCoolant = 1000 # The density of coolant [kg/m3]\n",
    "CpCoolant = 4183 # Heat capacity of coolant [J/kg/K]\n",
    "Vj = 1.5 # Volume of the jacket [m3]\n",
    "\n",
    "\n",
    "#Initial Data\n",
    "\n",
    "#t_0 = 0.0001 # Starting time\n",
    "#Np_0 = 0 # Number of moles of 2-octanone (P) at t = t0\n",
    "#Nx_0 = 0 # Number of moles of carboxylic acids (X) at t = t0\n",
    "Vr0 = 1.5 # Initial volume in a reactor [m3]\n",
    "Y = 0.035 # Initial concentr. of nitrosonium ion Y=Nb0/NaF\n",
    "Percent = 0.6 # Initial mass concentr of nitr. acid sol. [%]\n",
    "#Tr_0 = 260 # Temp. in the reactor at t = t0 (K)\n",
    "Gamma0 = 5.4 * 10 ** 6 # Initial heat capacity of the system [J/K]\n",
    "UA0 = 1500 # Initial cool. surface heat trans. coeff.[W/K]\n",
    "#Tcool_0 = 273.15 # Coolant exit temp. at t = t0 (K)\n",
    "Tcool_IN = 260 # Initial coolant temperature [K]\n",
    "\n",
    "#Final Data\n",
    "\n",
    "tf = 72000 # Final time (s)\n",
    "Vdos1 = 0.6 # Final volume of the dose [m3]\n",
    "tdos = 36000 # dosing time [s], 10h\n",
    "UA1 = 2100 # Final cool. surface heat trans. coeff. [W/K]\n",
    "\n",
    "# Equations\n",
    "\n",
    "def Mymodel(y,t):\n",
    "    NnO = Vr0 * Percent * RhoAcid / float(Mw) # Initial number of mole of HNO3 [kmole]\n",
    "    wt = NnO * Mw / float(Vr0 * RhoAcid) # Mass concentr. of nitric acid sol [%/100%]\n",
    "    H = -0.6221 - 3.7214 * wt - 1.5714 * wt ** 2 # Hammett's acidity function\n",
    "    Epsd = Vdos1/float(Vdos1+Vr0) # Volume fraction of dispersed phase\n",
    "    NaF = (Vdos1 * RhoOctan) / float(MwOctan) # Total amount of 2-octanol (a) fed [kmol]\n",
    "    tdos = 3600\n",
    "    if t in range(0,3600):\n",
    "        Theta = t / float(tdos)\n",
    "    else:\n",
    "        Theta=1  # Dimensionless time up to t=tdos\n",
    "    CaOrg = (Theta * NaF - y[0] - y[1]) / float(Vdos1 * Theta) # Concentr of a in org phase [kmole/m3]\n",
    "    CpOrg = y[0] / float(Vdos1 * Theta) # Concentr. of (P) in org phase [kmol/m3]\n",
    "    CbAq = (y[0] + Y * NaF) /float(Vr0) # Concentr. of (B) in aq. phase [kmole/m3]\n",
    "    Fw = 100 / 60 * 10 ^ (-3) # flowrate \n",
    "    NaF = (Vdos1 * RhoOctan) / float(MwOctan) # Total amount of 2-octanol (a) fed [kmol]\n",
    "    CnAq = (NnO - Y * NaF - y[0] - 2 * y[1]) / float(Vr0) # Concentr. of HNO3 in the aq. phase [kmol/m3]\n",
    "    k1 = (maA1)*(math.e)**(-E1perR /float( y[2] - (m1*H))) # Specific reaction rate 1\n",
    "    k2 = (mpA2)*(math.e)**(-E2perR /float(y[2] - (m2*H))) # Specific reaction rate 2 \n",
    "    r1 = k1*CaOrg*CbAq*(1-Epsd) # Reaction rate of a and b to p[kmol/m3/s]\n",
    "    r2 = k2*CpOrg*CbAq*(1-Epsd) # Reaction rate of p and b to x[kmol/m3/s]\n",
    "    dy0 = (r1-r2)*Vr0/(float(1-Epsd))\n",
    "    dy1 = (r1 * Vr0 / float(1 -Epsd))\n",
    "    Phi = Vdos1 / tdos # Volumetric flow rate of the feed [m3/s]\n",
    "    Qdos = Phi * RhoCPdos * (Tdos - y[2]) # Heat input due to reactant addition [W]\n",
    "    UAcool = UA0 + (UA1 - UA0) * Theta # Cooling surface heat transfer coefficient [W/K]\n",
    "    Qcool = UAcool * (y[3] - y[2]) # Heat removed by the cooling jacket [W]\n",
    "    Gamma = Gamma0 + RhoCPdos * Phi * t # Total heat capacity of the system [J/K]\n",
    "    Qnol = r1 * Vr0 * Hnol / float(1 - Epsd) # Heat of reaction, 1  [W]\n",
    "    Qnone = r2 * Vr0 * Hnone / float(1 - Epsd) # Heat of reaction, 2 [W]\n",
    "    Qr = Qnol + Qnone # Sum of the heat of reaction the reactions [W)\n",
    "    dy2 = (Qr + Qdos + Qcool) / float(Gamma)  #Reactor energy balance (Tr in K)\n",
    "    dy3 = (Fw * (Tcool_IN - y[3]) - Qcool / float(RhoCoolant * CpCoolant)) / float(Vj)  #Jacket energy balance (T in K)\n",
    "    return[dy0, dy1, dy2, dy3]\n"
   ]
  },
  {
   "cell_type": "code",
   "execution_count": 2,
   "metadata": {
    "collapsed": true
   },
   "outputs": [],
   "source": [
    "def main():\n",
    "    # initial values of y0,y1,y2,y3 at t=0\n",
    "    yinit = [0.0,0.0,260,273.15]\n",
    "    # Times at which the solution is to be computed.\n",
    "    tf = 72000\n",
    "    t = np.linspace(1, tf, 72000)\n",
    "    yfinal = [3.1223447,0.2520688,261.64119,260.38278] \n",
    "    y = odeint(Mymodel, yinit , t)\n",
    "    print 'Intial values of Np , Nx, Tr, Tcool are', yinit\n",
    "    print 'Final values of Np , Nx, Tr, Tcool are ', yfinal\n",
    "    plt.plot(t , y[:,1] )\n",
    "    plt.xlabel('time(t)')\n",
    "    plt.ylabel('moles')\n",
    "    plt.title('Molar amounts of the desired and the undesired products in normal operating conditions')\n",
    "    plt.xscale('log')\n",
    "    plt.show()\n",
    "    plt.plot(t , y[:,2] )\n",
    "    plt.xlabel('time(t)')\n",
    "    plt.ylabel('Reactor temperature in K')\n",
    "    plt.title('Temperature variation in the reactor when the inlet temperature of the cooling media is increased to 265K')\n",
    "    plt.xscale('log')"
   ]
  },
  {
   "cell_type": "code",
   "execution_count": 3,
   "metadata": {
    "collapsed": false
   },
   "outputs": [
    {
     "name": "stdout",
     "output_type": "stream",
     "text": [
      "Intial values of Np , Nx, Tr, Tcool are [0.0, 0.0, 260, 273.15]\n",
      "Final values of Np , Nx, Tr, Tcool are  [3.1223447, 0.2520688, 261.64119, 260.38278]\n"
     ]
    },
    {
     "name": "stderr",
     "output_type": "stream",
     "text": [
      "C:\\Users\\sravan\\Anaconda\\lib\\site-packages\\scipy\\integrate\\odepack.py:156: ODEintWarning: Excess work done on this call (perhaps wrong Dfun type). Run with full_output = 1 to get quantitative information.\n",
      "  warnings.warn(warning_msg, ODEintWarning)\n"
     ]
    },
    {
     "data": {
      "image/png": "[encoded data removed]",
      "text/plain": [
       "<matplotlib.figure.Figure at 0x40fd198>"
      ]
     },
     "metadata": {},
     "output_type": "display_data"
    },
    {
     "data": {
      "image/png": "[encoded data removed]",
      "text/plain": [
       "<matplotlib.figure.Figure at 0x1ef57c50>"
      ]
     },
     "metadata": {},
     "output_type": "display_data"
    }
   ],
   "source": [
    "if __name__==\"__main__\":\n",
    "    main()"
   ]
  },
  {
   "cell_type": "markdown",
   "metadata": {},
   "source": [
    "### Oxidation of 2-octanol in a semi-batch reactor— quantitative HAZOP\n",
    "\n",
    "###The Semi-batch reactor operation in normal operating conditions\n",
    "\n",
    "|Variable                       |    initial value  |minimal value|   maximal value|   final value|\n",
    "| ----------------------------------------------------------------------------------------------- |\n",
    "| t(time, s)                    |   1.0E-04         |1.0E-04      |   7.2E+04      |   7.2E+04    |\n",
    "| Np(2-octanone, mol)           |    0              |0            |  3.1223447     |3.1223447     |\n",
    "| Nx(carboxylic acids, mol)     |    0              |0            |  0.2520688     |0.2520688     |\n",
    "| Tr(reactor temperature, K)    |    260            |260          |  274.57096     |261.64119     |\n",
    "| Tcool(cooling temperature, K) |    273.15         |260.38278    |  273.15        |260.38278     |\n"
   ]
  },
  {
   "cell_type": "markdown",
   "metadata": {},
   "source": [
    "### Investigation of the effect of the reduction of the flow rate of the coolant for HAZOP\n",
    "\n",
    "|Fw (l/min)                     |    600            |    300      |   200          |   100        |   70        |\n",
    "| ------------------------------------------------------------------------------------------------------------- |\n",
    "| Np (kmol)                     |   3.18            |    3.17     |   3.16         |   3.07       |      0.01   |\n",
    "| Nx (kmol)                     |    0.21           |    0.23     |   0.26         |   0.36       |      3.78   |\n",
    "| Treactor,max (C)              |    0.15           |    0.55     |   1.31         |   4.38       |      196    |\n",
    "| Tcool,max (C)                 |   11.5            |    11.0     |   10.4         |   8.40       |      39     |"
   ]
  },
  {
   "cell_type": "markdown",
   "metadata": {},
   "source": [
    "### Investigation of the effects of the reduction of the effective heat transfer rates for HAZOP\n",
    "|Effective heat transfer rate   |    100%           |    90%      |   81%          |   80%        |   70%       |    60%      |\n",
    "| --------------------------------------------------------------------------------------------------------------------------- | \n",
    "| Np (kmol)                     |    3.16           |    3.08     |   0.05         |   0.14       |      0.03   |      0.38   |\n",
    "| Nx (kmol)                     |    0.26           |    0.33     |   3.71         |   3.3        |      2.63   |      2.64   |\n",
    "| Treactor,max (C)              |    10.4           |    10.2     |   8.88         |   6.42       |      0.3    |      2.37   |\n",
    "| Tcool,max (C)                 |    1.31           |    3.9      |   195          |   177        |      147    |      128    |"
   ]
  },
  {
   "cell_type": "markdown",
   "metadata": {},
   "source": [
    "### Some deviations that may cause temperature runaway\n",
    "\n",
    "\n",
    "|Guide word       | Deviation                        | Normal value           | Limit            |\n",
    "| ---------------------------------------------------------------------------------------------- |\n",
    "|None             | No flow in the cooling jacket    |                        |                  |\n",
    "|Less of          |Lower coolant flow rate           |600 l/min               |Less than 70 l/min|\n",
    "|Less of          |  Smaller heat transfer area      |100%                    |Less than 81%     |\n",
    "|More of          | Higher coolant temperature       |-15                     | More than -6     |\n",
    "|Less             | Shorter dosing time              | 20 h                   |Less than 7.5 h   |\n",
    "|More of          | Larger dosing volume             |0.6m3                   |More than 0.81m3  |\n",
    "|More of          | Higher nitric acid concentration |59%                     |More than 64%     |"
   ]
  },
  {
   "cell_type": "markdown",
   "metadata": {},
   "source": [
    "###References\n",
    "\n",
    "1. [Combining HAZOP with dynamic simulation—Applications for safety education](http://www.sciencedirect.com/science/article/pii/S0950423006000428/), by Shimon Eizenberg, Mordechai Shacham, Neima Brauner. \n",
    "2. [solving ODE in python](http://stackoverflow.com/questions/16909779/any-way-to-solve-a-system-of-coupled-differential-equations-in-python/)\n",
    "3. [solving in python notebook](http://openedx.seas.gwu.edu/courses/GW/MAE6286/2014_fall/99f230e1104b46c1857417614de7e3bd/)\n",
    "3. [using function numpy and linspace](http://docs.scipy.org/doc/numpy/reference/generated/numpy.linspace.html)\n",
    "3. [using function scipy](http://stackoverflow.com/questions/tagged/scipy)"
   ]
  },
  {
   "cell_type": "code",
   "execution_count": null,
   "metadata": {
    "collapsed": true
   },
   "outputs": [],
   "source": []
  }
 ],
 "metadata": {
  "kernelspec": {
   "display_name": "Python 2",
   "language": "python",
   "name": "python2"
  },
  "language_info": {
   "codemirror_mode": {
    "name": "ipython",
    "version": 2
   },
   "file_extension": ".py",
   "mimetype": "text/x-python",
   "name": "python",
   "nbconvert_exporter": "python",
   "pygments_lexer": "ipython2",
   "version": "2.7.10"
  }
 },
 "nbformat": 4,
 "nbformat_minor": 0
}
